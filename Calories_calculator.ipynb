{
  "nbformat": 4,
  "nbformat_minor": 0,
  "metadata": {
    "colab": {
      "name": "Calories_calculator.ipynb",
      "provenance": [],
      "authorship_tag": "ABX9TyM97jnfqMqD6JTuxQ5Fom5H",
      "include_colab_link": true
    },
    "kernelspec": {
      "name": "python3",
      "display_name": "Python 3"
    },
    "language_info": {
      "name": "python"
    }
  },
  "cells": [
    {
      "cell_type": "markdown",
      "metadata": {
        "id": "view-in-github",
        "colab_type": "text"
      },
      "source": [
        "<a href=\"https://colab.research.google.com/github/jyotidabass/Calories_calculator/blob/main/Calories_calculator.ipynb\" target=\"_parent\"><img src=\"https://colab.research.google.com/assets/colab-badge.svg\" alt=\"Open In Colab\"/></a>"
      ]
    },
    {
      "cell_type": "code",
      "execution_count": 9,
      "metadata": {
        "colab": {
          "base_uri": "https://localhost:8080/"
        },
        "id": "JayjYKtgGwdm",
        "outputId": "c4ff0e83-102c-40a8-eb6f-3f7665350e6a"
      },
      "outputs": [
        {
          "output_type": "stream",
          "name": "stdout",
          "text": [
            "fatal: destination path 'calories-calculator' already exists and is not an empty directory.\n"
          ]
        }
      ],
      "source": [
        "!git clone https://github.com/marrieu/calories-calculator.git"
      ]
    },
    {
      "cell_type": "code",
      "source": [
        "calories='/content/calories-calculator'\n",
        "\n",
        "print('Lets estimate your calorie intake..')\n",
        "\n",
        "# enter age\n",
        "age = int(input(\"Enter your age: \"))\n",
        "\n",
        "# enter only M or F for sex\n",
        "while True:\n",
        "    try:\n",
        "        sex = str(input(\"Enter your sex (M for Male and F for Female): \"))  \n",
        "        if sex not in ['M','F']:\n",
        "            raise AssertionError('Please enter the letter M or F')\n",
        "        break\n",
        "    except AssertionError as e:\n",
        "        print(e)\n",
        "        \n",
        "# enter weight in kg\n",
        "while True:\n",
        "    try:\n",
        "        weight = float(input(\"Enter your weight in kg: \"))\n",
        "        # asserting weight is in Kg\n",
        "        if not weight < 120:\n",
        "            raise AssertionError('Weight needs to be in Kg. e.g: 61, 84..')\n",
        "        break\n",
        "    except AssertionError as e:\n",
        "        print(e)    \n",
        "        \n",
        "# enter height in cm\n",
        "while True:\n",
        "    try:\n",
        "        height = float(input(\"Enter your height in cm: \"))\n",
        "        # asserting height in cm\n",
        "        if not height > 100:\n",
        "            raise AssertionError('Height needs to be in centimeters. e.g: 167, 179..')\n",
        "        break\n",
        "    except AssertionError as e:\n",
        "        print(e)            \n",
        "\n",
        "C = Calories(weight, height, age, sex)\n",
        "\n",
        "activity = float(input('''\n",
        "1.2 - Sedentary: Little or no physical activity.\n",
        "1.3 - Lightly Active: Light exercise or activity 1-3 days per week.\n",
        "1.5 - Moderately Active: Moderate exercise or activity 3-5 days per week.\n",
        "1.7 - Very Active: Hard exercise or activity 6-7 days per week.\n",
        "1.9 - Extremely Active: Hard daily exercise or activity and physical work \n",
        "Enter your activity multiplier according to the table above (number between 1.2 to 1.9): '''))\n",
        "\n",
        "print('''Your daily calorie intake:\n",
        "{} for maintaining\n",
        "{} for losing\n",
        "{} for gaining'''.format(C.TDEE(act_mult = activity), C.cut(act_mult = activity), C.bulk(act_mult = activity)))\n",
        "\n",
        "\n",
        "# enter your goal\n",
        "while True:\n",
        "    try:\n",
        "        goal = str(input(\"What is your goal? Enter M for maintaining, L for losing or G for gaining: \"))  \n",
        "        if goal not in ['M','L','G']:\n",
        "            raise AssertionError('Please enter the letter M, L or G')\n",
        "        break\n",
        "    except AssertionError as e:\n",
        "        print(e)\n",
        "        \n",
        "if goal == 'M':\n",
        "    total_cal = C.TDEE(act_mult = activity)\n",
        "elif goal == 'L':\n",
        "    total_cal = C.cut(act_mult = activity)\n",
        "elif goal == 'G':\n",
        "    total_cal = C.bulk(act_mult = activity)\n",
        "    \n",
        "    \n",
        "protein = C.protein_intake(weight)\n",
        "\n",
        "\n",
        "print('''Your daily minimum protein intake is: {} grams'''.format(protein))"
      ],
      "metadata": {
        "colab": {
          "base_uri": "https://localhost:8080/"
        },
        "id": "BAsMD60XGz36",
        "outputId": "1730c106-767b-45a2-acb7-9ba4cc4bd509"
      },
      "execution_count": 8,
      "outputs": [
        {
          "output_type": "stream",
          "name": "stdout",
          "text": [
            "Lets estimate your calorie intake..\n",
            "Enter your age: 23\n",
            "Enter your sex (M for Male and F for Female): f\n",
            "Please enter the letter M or F\n",
            "Enter your sex (M for Male and F for Female): F\n",
            "Enter your weight in kg: 46\n",
            "Enter your height in cm: 152\n",
            "\n",
            "1.2 - Sedentary: Little or no physical activity.\n",
            "1.3 - Lightly Active: Light exercise or activity 1-3 days per week.\n",
            "1.5 - Moderately Active: Moderate exercise or activity 3-5 days per week.\n",
            "1.7 - Very Active: Hard exercise or activity 6-7 days per week.\n",
            "1.9 - Extremely Active: Hard daily exercise or activity and physical work \n",
            "Enter your activity multiplier according to the table above (number between 1.2 to 1.9): 1.9\n",
            "Your daily calorie intake:\n",
            "2155 for maintaining\n",
            "1724 for losing\n",
            "2586 for gaining\n",
            "What is your goal? Enter M for maintaining, L for losing or G for gaining: g\n",
            "Please enter the letter M, L or G\n",
            "What is your goal? Enter M for maintaining, L for losing or G for gaining: G\n",
            "Your daily minimum protein intake is: 101 grams\n"
          ]
        }
      ]
    },
    {
      "cell_type": "code",
      "source": [
        ""
      ],
      "metadata": {
        "id": "Qkqu5qYuG8mP"
      },
      "execution_count": 3,
      "outputs": []
    }
  ]
}